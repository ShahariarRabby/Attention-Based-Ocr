{
  "nbformat": 4,
  "nbformat_minor": 0,
  "metadata": {
    "colab": {
      "name": "IItb.ipynb",
      "provenance": []
    },
    "kernelspec": {
      "name": "python3",
      "display_name": "Python 3"
    },
    "accelerator": "GPU"
  },
  "cells": [
    {
      "cell_type": "code",
      "metadata": {
        "id": "LQUS22wxefyl",
        "colab_type": "code",
        "colab": {
          "base_uri": "https://localhost:8080/",
          "height": 119
        },
        "outputId": "5a2d6f48-29ba-44ba-f5eb-e94a49aebf15"
      },
      "source": [
        "!pip install aocr\n"
      ],
      "execution_count": 23,
      "outputs": [
        {
          "output_type": "stream",
          "text": [
            "Requirement already satisfied: aocr in /usr/local/lib/python3.6/dist-packages (0.7.6)\n",
            "Requirement already satisfied: six in /usr/local/lib/python3.6/dist-packages (from aocr) (1.12.0)\n",
            "Requirement already satisfied: distance in /usr/local/lib/python3.6/dist-packages (from aocr) (0.1.3)\n",
            "Requirement already satisfied: numpy in /usr/local/lib/python3.6/dist-packages (from aocr) (1.17.4)\n",
            "Requirement already satisfied: pillow in /usr/local/lib/python3.6/dist-packages (from aocr) (4.3.0)\n",
            "Requirement already satisfied: olefile in /usr/local/lib/python3.6/dist-packages (from pillow->aocr) (0.46)\n"
          ],
          "name": "stdout"
        }
      ]
    },
    {
      "cell_type": "code",
      "metadata": {
        "id": "UrDWAmf3fFmC",
        "colab_type": "code",
        "colab": {}
      },
      "source": [
        "import tensorflow as tf\n",
        "import aocr"
      ],
      "execution_count": 0,
      "outputs": []
    },
    {
      "cell_type": "code",
      "metadata": {
        "id": "fNNyLEM0hyTf",
        "colab_type": "code",
        "colab": {
          "base_uri": "https://localhost:8080/",
          "height": 122
        },
        "outputId": "bc493d9f-6dec-4a5b-9755-f1c121656ca8"
      },
      "source": [
        "from google.colab import drive\n",
        "drive.mount('/content/drive')"
      ],
      "execution_count": 16,
      "outputs": [
        {
          "output_type": "stream",
          "text": [
            "Go to this URL in a browser: https://accounts.google.com/o/oauth2/auth?client_id=947318989803-6bn6qk8qdgf4n4g3pfee6491hc0brc4i.apps.googleusercontent.com&redirect_uri=urn%3aietf%3awg%3aoauth%3a2.0%3aoob&response_type=code&scope=email%20https%3a%2f%2fwww.googleapis.com%2fauth%2fdocs.test%20https%3a%2f%2fwww.googleapis.com%2fauth%2fdrive%20https%3a%2f%2fwww.googleapis.com%2fauth%2fdrive.photos.readonly%20https%3a%2f%2fwww.googleapis.com%2fauth%2fpeopleapi.readonly\n",
            "\n",
            "Enter your authorization code:\n",
            "··········\n",
            "Mounted at /content/drive\n"
          ],
          "name": "stdout"
        }
      ]
    },
    {
      "cell_type": "code",
      "metadata": {
        "id": "N4L1q53Anayo",
        "colab_type": "code",
        "colab": {}
      },
      "source": [
        ""
      ],
      "execution_count": 0,
      "outputs": []
    },
    {
      "cell_type": "code",
      "metadata": {
        "id": "BH8HnQz6mBL8",
        "colab_type": "code",
        "colab": {}
      },
      "source": [
        "import os"
      ],
      "execution_count": 0,
      "outputs": []
    },
    {
      "cell_type": "code",
      "metadata": {
        "id": "9Y1ICX8jmZ82",
        "colab_type": "code",
        "colab": {
          "base_uri": "https://localhost:8080/",
          "height": 34
        },
        "outputId": "a37f54a3-a342-4cef-9aff-d4d5233cd773"
      },
      "source": [
        "os.getcwd()"
      ],
      "execution_count": 47,
      "outputs": [
        {
          "output_type": "execute_result",
          "data": {
            "text/plain": [
              "'/content/drive/My Drive'"
            ]
          },
          "metadata": {
            "tags": []
          },
          "execution_count": 47
        }
      ]
    },
    {
      "cell_type": "code",
      "metadata": {
        "id": "O5NF9UqnokRv",
        "colab_type": "code",
        "colab": {}
      },
      "source": [
        "os.chdir(\"./drive/My Drive\")\n",
        "\n"
      ],
      "execution_count": 0,
      "outputs": []
    },
    {
      "cell_type": "code",
      "metadata": {
        "id": "JZ0T6RNOmksL",
        "colab_type": "code",
        "colab": {
          "base_uri": "https://localhost:8080/",
          "height": 1000
        },
        "outputId": "58ff49d3-b0b5-41e2-85f7-09ff53f9b860"
      },
      "source": [
        "!aocr train ./training.tfrecords --max-width 1000 --max-height 61 --max-prediction 36 --full-ascii \n",
        "\n"
      ],
      "execution_count": 61,
      "outputs": [
        {
          "output_type": "stream",
          "text": [
            "2019-11-28 16:34:16,202 root  INFO     Step 3939: 0.380s, loss: 0.114760, perplexity: 1.121604.\n",
            "2019-11-28 16:34:16,594 root  INFO     Step 3940: 0.384s, loss: 0.182095, perplexity: 1.199728.\n",
            "2019-11-28 16:34:16,987 root  INFO     Step 3941: 0.383s, loss: 0.218141, perplexity: 1.243762.\n",
            "2019-11-28 16:34:17,378 root  INFO     Step 3942: 0.384s, loss: 0.227799, perplexity: 1.255833.\n",
            "2019-11-28 16:34:17,755 root  INFO     Step 3943: 0.368s, loss: 0.290015, perplexity: 1.336447.\n",
            "2019-11-28 16:34:18,132 root  INFO     Step 3944: 0.370s, loss: 0.234694, perplexity: 1.264522.\n",
            "2019-11-28 16:34:18,515 root  INFO     Step 3945: 0.375s, loss: 0.205864, perplexity: 1.228586.\n",
            "2019-11-28 16:34:18,900 root  INFO     Step 3946: 0.377s, loss: 0.153227, perplexity: 1.165589.\n",
            "2019-11-28 16:34:19,294 root  INFO     Step 3947: 0.386s, loss: 0.284622, perplexity: 1.329259.\n",
            "2019-11-28 16:34:19,700 root  INFO     Step 3948: 0.393s, loss: 0.592163, perplexity: 1.807895.\n",
            "2019-11-28 16:34:20,090 root  INFO     Step 3949: 0.382s, loss: 0.566966, perplexity: 1.762910.\n",
            "2019-11-28 16:34:20,476 root  INFO     Step 3950: 0.378s, loss: 0.537346, perplexity: 1.711458.\n",
            "2019-11-28 16:34:20,853 root  INFO     Step 3951: 0.368s, loss: 0.559772, perplexity: 1.750274.\n",
            "2019-11-28 16:34:21,237 root  INFO     Step 3952: 0.376s, loss: 0.409217, perplexity: 1.505638.\n",
            "2019-11-28 16:34:21,628 root  INFO     Step 3953: 0.384s, loss: 0.550792, perplexity: 1.734626.\n",
            "2019-11-28 16:34:22,008 root  INFO     Step 3954: 0.372s, loss: 0.301757, perplexity: 1.352233.\n",
            "2019-11-28 16:34:22,416 root  INFO     Step 3955: 0.399s, loss: 0.214612, perplexity: 1.239381.\n",
            "2019-11-28 16:34:22,801 root  INFO     Step 3956: 0.379s, loss: 0.259700, perplexity: 1.296541.\n",
            "2019-11-28 16:34:23,194 root  INFO     Step 3957: 0.383s, loss: 0.230604, perplexity: 1.259361.\n",
            "2019-11-28 16:34:23,580 root  INFO     Step 3958: 0.377s, loss: 0.188416, perplexity: 1.207335.\n",
            "2019-11-28 16:34:23,964 root  INFO     Step 3959: 0.377s, loss: 0.125447, perplexity: 1.133655.\n",
            "2019-11-28 16:34:24,370 root  INFO     Step 3960: 0.398s, loss: 0.209911, perplexity: 1.233568.\n",
            "2019-11-28 16:34:24,769 root  INFO     Step 3961: 0.392s, loss: 0.336659, perplexity: 1.400261.\n",
            "2019-11-28 16:34:25,166 root  INFO     Step 3962: 0.388s, loss: 0.177559, perplexity: 1.194299.\n",
            "2019-11-28 16:34:25,563 root  INFO     Step 3963: 0.388s, loss: 0.184179, perplexity: 1.202231.\n",
            "2019-11-28 16:34:25,947 root  INFO     Step 3964: 0.377s, loss: 0.235171, perplexity: 1.265125.\n",
            "2019-11-28 16:34:26,329 root  INFO     Step 3965: 0.374s, loss: 0.234903, perplexity: 1.264786.\n",
            "2019-11-28 16:34:26,715 root  INFO     Step 3966: 0.378s, loss: 0.353452, perplexity: 1.423975.\n",
            "2019-11-28 16:34:27,103 root  INFO     Step 3967: 0.379s, loss: 0.154563, perplexity: 1.167148.\n",
            "2019-11-28 16:34:27,515 root  INFO     Step 3968: 0.401s, loss: 0.166787, perplexity: 1.181503.\n",
            "2019-11-28 16:34:27,904 root  INFO     Step 3969: 0.381s, loss: 0.132803, perplexity: 1.142025.\n",
            "2019-11-28 16:34:28,297 root  INFO     Step 3970: 0.384s, loss: 0.095423, perplexity: 1.100124.\n",
            "2019-11-28 16:34:28,691 root  INFO     Step 3971: 0.386s, loss: 0.155196, perplexity: 1.167886.\n",
            "2019-11-28 16:34:29,083 root  INFO     Step 3972: 0.383s, loss: 0.115520, perplexity: 1.122457.\n",
            "2019-11-28 16:34:29,473 root  INFO     Step 3973: 0.381s, loss: 0.370075, perplexity: 1.447844.\n",
            "2019-11-28 16:34:29,866 root  INFO     Step 3974: 0.386s, loss: 0.225464, perplexity: 1.252904.\n",
            "2019-11-28 16:34:30,253 root  INFO     Step 3975: 0.378s, loss: 0.253663, perplexity: 1.288737.\n",
            "2019-11-28 16:34:30,656 root  INFO     Step 3976: 0.396s, loss: 0.319314, perplexity: 1.376183.\n",
            "2019-11-28 16:34:31,046 root  INFO     Step 3977: 0.381s, loss: 0.198751, perplexity: 1.219878.\n",
            "2019-11-28 16:34:31,440 root  INFO     Step 3978: 0.386s, loss: 0.157774, perplexity: 1.170902.\n",
            "2019-11-28 16:34:31,822 root  INFO     Step 3979: 0.374s, loss: 0.298570, perplexity: 1.347930.\n",
            "2019-11-28 16:34:32,210 root  INFO     Step 3980: 0.380s, loss: 0.255975, perplexity: 1.291721.\n",
            "2019-11-28 16:34:32,614 root  INFO     Step 3981: 0.397s, loss: 0.229167, perplexity: 1.257552.\n",
            "2019-11-28 16:34:32,993 root  INFO     Step 3982: 0.372s, loss: 0.151483, perplexity: 1.163559.\n",
            "2019-11-28 16:34:33,382 root  INFO     Step 3983: 0.381s, loss: 0.203380, perplexity: 1.225538.\n",
            "2019-11-28 16:34:33,778 root  INFO     Step 3984: 0.389s, loss: 0.329334, perplexity: 1.390043.\n",
            "2019-11-28 16:34:34,166 root  INFO     Step 3985: 0.380s, loss: 0.290906, perplexity: 1.337639.\n",
            "2019-11-28 16:34:34,554 root  INFO     Step 3986: 0.380s, loss: 0.231235, perplexity: 1.260156.\n",
            "2019-11-28 16:34:34,939 root  INFO     Step 3987: 0.378s, loss: 0.255389, perplexity: 1.290964.\n",
            "2019-11-28 16:34:35,331 root  INFO     Step 3988: 0.384s, loss: 0.223436, perplexity: 1.250365.\n",
            "2019-11-28 16:34:35,720 root  INFO     Step 3989: 0.379s, loss: 0.213018, perplexity: 1.237407.\n",
            "2019-11-28 16:34:36,108 root  INFO     Step 3990: 0.378s, loss: 0.149877, perplexity: 1.161691.\n",
            "2019-11-28 16:34:36,498 root  INFO     Step 3991: 0.382s, loss: 0.147008, perplexity: 1.158363.\n",
            "2019-11-28 16:34:36,886 root  INFO     Step 3992: 0.379s, loss: 0.317198, perplexity: 1.373274.\n",
            "2019-11-28 16:34:37,277 root  INFO     Step 3993: 0.383s, loss: 0.361979, perplexity: 1.436169.\n",
            "2019-11-28 16:34:37,664 root  INFO     Step 3994: 0.378s, loss: 0.211100, perplexity: 1.235036.\n",
            "2019-11-28 16:34:38,060 root  INFO     Step 3995: 0.388s, loss: 0.235351, perplexity: 1.265353.\n",
            "2019-11-28 16:34:38,447 root  INFO     Step 3996: 0.379s, loss: 0.224623, perplexity: 1.251851.\n",
            "2019-11-28 16:34:38,838 root  INFO     Step 3997: 0.384s, loss: 0.151679, perplexity: 1.163787.\n",
            "2019-11-28 16:34:39,238 root  INFO     Step 3998: 0.392s, loss: 0.237369, perplexity: 1.267909.\n",
            "2019-11-28 16:34:39,643 root  INFO     Step 3999: 0.397s, loss: 0.255214, perplexity: 1.290738.\n",
            "2019-11-28 16:34:40,026 root  INFO     Step 4000: 0.376s, loss: 0.246775, perplexity: 1.279891.\n",
            "2019-11-28 16:34:40,026 root  INFO     Global step 4000. Time: 0.386, loss: 0.239999, perplexity: 1.27.\n",
            "2019-11-28 16:34:40,027 root  INFO     Saving the model at step 4000.\n",
            "2019-11-28 16:34:42,925 root  INFO     Step 4001: 0.372s, loss: 0.258197, perplexity: 1.294593.\n",
            "2019-11-28 16:34:43,313 root  INFO     Step 4002: 0.380s, loss: 0.306017, perplexity: 1.358006.\n",
            "2019-11-28 16:34:43,696 root  INFO     Step 4003: 0.375s, loss: 0.159722, perplexity: 1.173185.\n",
            "2019-11-28 16:34:44,093 root  INFO     Step 4004: 0.391s, loss: 0.097551, perplexity: 1.102468.\n",
            "2019-11-28 16:34:44,478 root  INFO     Step 4005: 0.377s, loss: 0.243018, perplexity: 1.275092.\n",
            "2019-11-28 16:34:44,882 root  INFO     Step 4006: 0.395s, loss: 0.187461, perplexity: 1.206183.\n",
            "2019-11-28 16:34:45,272 root  INFO     Step 4007: 0.382s, loss: 0.157290, perplexity: 1.170335.\n",
            "2019-11-28 16:34:45,688 root  INFO     Step 4008: 0.409s, loss: 0.322407, perplexity: 1.380446.\n",
            "2019-11-28 16:34:46,104 root  INFO     Step 4009: 0.404s, loss: 0.179600, perplexity: 1.196738.\n",
            "2019-11-28 16:34:46,518 root  INFO     Step 4010: 0.406s, loss: 0.146959, perplexity: 1.158306.\n",
            "2019-11-28 16:34:46,981 root  INFO     Step 4011: 0.442s, loss: 0.251567, perplexity: 1.286039.\n",
            "Traceback (most recent call last):\n",
            "  File \"/usr/local/bin/aocr\", line 8, in <module>\n",
            "    sys.exit(main())\n",
            "  File \"/usr/local/lib/python3.6/dist-packages/aocr/__main__.py\", line 257, in main\n",
            "    num_epoch=parameters.num_epoch\n",
            "  File \"/usr/local/lib/python3.6/dist-packages/aocr/model/model.py\", line 384, in train\n",
            "    result = self.step(batch, self.forward_only)\n",
            "  File \"/usr/local/lib/python3.6/dist-packages/aocr/model/model.py\", line 477, in step\n",
            "    outputs = self.sess.run(output_feed, input_feed)\n",
            "  File \"/usr/local/lib/python3.6/dist-packages/tensorflow_core/python/client/session.py\", line 956, in run\n",
            "    run_metadata_ptr)\n",
            "  File \"/usr/local/lib/python3.6/dist-packages/tensorflow_core/python/client/session.py\", line 1180, in _run\n",
            "    feed_dict_tensor, options, run_metadata)\n",
            "  File \"/usr/local/lib/python3.6/dist-packages/tensorflow_core/python/client/session.py\", line 1359, in _do_run\n",
            "    run_metadata)\n",
            "  File \"/usr/local/lib/python3.6/dist-packages/tensorflow_core/python/client/session.py\", line 1365, in _do_call\n",
            "    return fn(*args)\n",
            "  File \"/usr/local/lib/python3.6/dist-packages/tensorflow_core/python/client/session.py\", line 1350, in _run_fn\n",
            "    target_list, run_metadata)\n",
            "  File \"/usr/local/lib/python3.6/dist-packages/tensorflow_core/python/client/session.py\", line 1443, in _call_tf_sessionrun\n",
            "    run_metadata)\n",
            "KeyboardInterrupt\n"
          ],
          "name": "stdout"
        }
      ]
    },
    {
      "cell_type": "code",
      "metadata": {
        "id": "r9KSBcqhpnxg",
        "colab_type": "code",
        "colab": {
          "base_uri": "https://localhost:8080/",
          "height": 1000
        },
        "outputId": "11537f83-44f2-4c94-bc6d-7fccf0a0cd4f"
      },
      "source": [
        "!aocr test ./testing.tfrecords \n"
      ],
      "execution_count": 69,
      "outputs": [
        {
          "output_type": "stream",
          "text": [
            "WARNING:tensorflow:From /usr/local/lib/python3.6/dist-packages/aocr/__main__.py:20: The name tf.logging.set_verbosity is deprecated. Please use tf.compat.v1.logging.set_verbosity instead.\n",
            "\n",
            "WARNING:tensorflow:From /usr/local/lib/python3.6/dist-packages/aocr/__main__.py:20: The name tf.logging.ERROR is deprecated. Please use tf.compat.v1.logging.ERROR instead.\n",
            "\n",
            "2019-11-28 17:51:06.493148: I tensorflow/core/platform/profile_utils/cpu_utils.cc:94] CPU Frequency: 2200000000 Hz\n",
            "2019-11-28 17:51:06.493398: I tensorflow/compiler/xla/service/service.cc:168] XLA service 0x1d1b2c0 initialized for platform Host (this does not guarantee that XLA will be used). Devices:\n",
            "2019-11-28 17:51:06.493434: I tensorflow/compiler/xla/service/service.cc:176]   StreamExecutor device (0): Host, Default Version\n",
            "2019-11-28 17:51:06.495521: I tensorflow/stream_executor/platform/default/dso_loader.cc:44] Successfully opened dynamic library libcuda.so.1\n",
            "2019-11-28 17:51:06.588873: I tensorflow/stream_executor/cuda/cuda_gpu_executor.cc:983] successful NUMA node read from SysFS had negative value (-1), but there must be at least one NUMA node, so returning NUMA node zero\n",
            "2019-11-28 17:51:06.589605: I tensorflow/compiler/xla/service/service.cc:168] XLA service 0x1d1b480 initialized for platform CUDA (this does not guarantee that XLA will be used). Devices:\n",
            "2019-11-28 17:51:06.589631: I tensorflow/compiler/xla/service/service.cc:176]   StreamExecutor device (0): Tesla P100-PCIE-16GB, Compute Capability 6.0\n",
            "2019-11-28 17:51:06.589819: I tensorflow/stream_executor/cuda/cuda_gpu_executor.cc:983] successful NUMA node read from SysFS had negative value (-1), but there must be at least one NUMA node, so returning NUMA node zero\n",
            "2019-11-28 17:51:06.590405: I tensorflow/core/common_runtime/gpu/gpu_device.cc:1618] Found device 0 with properties: \n",
            "name: Tesla P100-PCIE-16GB major: 6 minor: 0 memoryClockRate(GHz): 1.3285\n",
            "pciBusID: 0000:00:04.0\n",
            "2019-11-28 17:51:06.590701: I tensorflow/stream_executor/platform/default/dso_loader.cc:44] Successfully opened dynamic library libcudart.so.10.1\n",
            "2019-11-28 17:51:06.592338: I tensorflow/stream_executor/platform/default/dso_loader.cc:44] Successfully opened dynamic library libcublas.so.10\n",
            "2019-11-28 17:51:06.593969: I tensorflow/stream_executor/platform/default/dso_loader.cc:44] Successfully opened dynamic library libcufft.so.10\n",
            "2019-11-28 17:51:06.594383: I tensorflow/stream_executor/platform/default/dso_loader.cc:44] Successfully opened dynamic library libcurand.so.10\n",
            "2019-11-28 17:51:06.596133: I tensorflow/stream_executor/platform/default/dso_loader.cc:44] Successfully opened dynamic library libcusolver.so.10\n",
            "2019-11-28 17:51:06.596927: I tensorflow/stream_executor/platform/default/dso_loader.cc:44] Successfully opened dynamic library libcusparse.so.10\n",
            "2019-11-28 17:51:06.600564: I tensorflow/stream_executor/platform/default/dso_loader.cc:44] Successfully opened dynamic library libcudnn.so.7\n",
            "2019-11-28 17:51:06.600676: I tensorflow/stream_executor/cuda/cuda_gpu_executor.cc:983] successful NUMA node read from SysFS had negative value (-1), but there must be at least one NUMA node, so returning NUMA node zero\n",
            "2019-11-28 17:51:06.601269: I tensorflow/stream_executor/cuda/cuda_gpu_executor.cc:983] successful NUMA node read from SysFS had negative value (-1), but there must be at least one NUMA node, so returning NUMA node zero\n",
            "2019-11-28 17:51:06.601773: I tensorflow/core/common_runtime/gpu/gpu_device.cc:1746] Adding visible gpu devices: 0\n",
            "2019-11-28 17:51:06.601822: I tensorflow/stream_executor/platform/default/dso_loader.cc:44] Successfully opened dynamic library libcudart.so.10.1\n",
            "2019-11-28 17:51:06.603051: I tensorflow/core/common_runtime/gpu/gpu_device.cc:1159] Device interconnect StreamExecutor with strength 1 edge matrix:\n",
            "2019-11-28 17:51:06.603072: I tensorflow/core/common_runtime/gpu/gpu_device.cc:1165]      0 \n",
            "2019-11-28 17:51:06.603081: I tensorflow/core/common_runtime/gpu/gpu_device.cc:1178] 0:   N \n",
            "2019-11-28 17:51:06.603193: I tensorflow/stream_executor/cuda/cuda_gpu_executor.cc:983] successful NUMA node read from SysFS had negative value (-1), but there must be at least one NUMA node, so returning NUMA node zero\n",
            "2019-11-28 17:51:06.603778: I tensorflow/stream_executor/cuda/cuda_gpu_executor.cc:983] successful NUMA node read from SysFS had negative value (-1), but there must be at least one NUMA node, so returning NUMA node zero\n",
            "2019-11-28 17:51:06.604320: W tensorflow/core/common_runtime/gpu/gpu_bfc_allocator.cc:39] Overriding allow_growth setting because the TF_FORCE_GPU_ALLOW_GROWTH environment variable is set. Original config value was 0.\n",
            "2019-11-28 17:51:06.604353: I tensorflow/core/common_runtime/gpu/gpu_device.cc:1304] Created TensorFlow device (/job:localhost/replica:0/task:0/device:GPU:0 with 14974 MB memory) -> physical GPU (device: 0, name: Tesla P100-PCIE-16GB, pci bus id: 0000:00:04.0, compute capability: 6.0)\n",
            "2019-11-28 17:51:06,605 root  INFO     phase: test\n",
            "2019-11-28 17:51:06,606 root  INFO     model_dir: ./checkpoints\n",
            "2019-11-28 17:51:06,606 root  INFO     load_model: True\n",
            "2019-11-28 17:51:06,607 root  INFO     output_dir: ./results\n",
            "2019-11-28 17:51:06,607 root  INFO     steps_per_checkpoint: 0\n",
            "2019-11-28 17:51:06,607 root  INFO     batch_size: 1\n",
            "2019-11-28 17:51:06,607 root  INFO     learning_rate: 1.000000\n",
            "2019-11-28 17:51:06,608 root  INFO     reg_val: 0\n",
            "2019-11-28 17:51:06,608 root  INFO     max_gradient_norm: 5.000000\n",
            "2019-11-28 17:51:06,608 root  INFO     clip_gradients: True\n",
            "2019-11-28 17:51:06,608 root  INFO     max_image_width 160.000000\n",
            "2019-11-28 17:51:06,608 root  INFO     max_prediction_length 8.000000\n",
            "2019-11-28 17:51:06,609 root  INFO     channels: 1\n",
            "2019-11-28 17:51:06,609 root  INFO     target_embedding_size: 10.000000\n",
            "2019-11-28 17:51:06,609 root  INFO     attn_num_hidden: 128\n",
            "2019-11-28 17:51:06,609 root  INFO     attn_num_layers: 2\n",
            "2019-11-28 17:51:06,609 root  INFO     visualize: False\n",
            "2019-11-28 17:51:08,261 root  INFO     Reading model parameters from ./checkpoints/model.ckpt-4000\n",
            "2019-11-28 17:51:08.296645: W tensorflow/core/common_runtime/colocation_graph.cc:983] Failed to place the graph without changing the devices of some resources. Some of the operations (that had to be colocated with resource generating operations) are not supported on the resources' devices. Current candidate devices are [\n",
            "  /job:localhost/replica:0/task:0/device:CPU:0].\n",
            "See below for details of this colocation group:\n",
            "Colocation Debug Info:\n",
            "Colocation group had the following types and supported devices: \n",
            "Root Member(assigned_device_name_index_=-1 requested_device_name_='/device:GPU:0' assigned_device_name_='' resource_device_name_='/device:GPU:0' supported_device_types_=[CPU] possible_devices_=[]\n",
            "Switch: GPU CPU XLA_CPU XLA_GPU \n",
            "Enter: GPU CPU XLA_CPU XLA_GPU \n",
            "LookupTableFindV2: CPU \n",
            "LookupTableInsertV2: CPU \n",
            "MutableHashTableV2: CPU \n",
            "LookupTableExportV2: CPU \n",
            "\n",
            "Colocation members, user-requested devices, and framework assigned devices, if any:\n",
            "  MutableHashTable (MutableHashTableV2) /device:GPU:0\n",
            "  MutableHashTable_lookup_table_export_values/LookupTableExportV2 (LookupTableExportV2) /device:GPU:0\n",
            "  MutableHashTable_lookup_table_insert/LookupTableInsertV2 (LookupTableInsertV2) /device:GPU:0\n",
            "  map_1/while/foldr/while/cond/MutableHashTable_lookup_table_find/LookupTableFindV2/Enter (Enter) /device:GPU:0\n",
            "  map_1/while/foldr/while/cond/MutableHashTable_lookup_table_find/LookupTableFindV2/Enter_1 (Enter) /device:GPU:0\n",
            "  map_1/while/foldr/while/cond/MutableHashTable_lookup_table_find/LookupTableFindV2/Switch (Switch) /device:GPU:0\n",
            "  map_1/while/foldr/while/cond/MutableHashTable_lookup_table_find/LookupTableFindV2/Enter_2 (Enter) /device:GPU:0\n",
            "  map_1/while/foldr/while/cond/MutableHashTable_lookup_table_find/LookupTableFindV2/Enter_3 (Enter) /device:GPU:0\n",
            "  map_1/while/foldr/while/cond/MutableHashTable_lookup_table_find/LookupTableFindV2/Switch_2 (Switch) /device:GPU:0\n",
            "  map_1/while/foldr/while/cond/MutableHashTable_lookup_table_find/LookupTableFindV2 (LookupTableFindV2) /device:GPU:0\n",
            "\n",
            "Traceback (most recent call last):\n",
            "  File \"/usr/local/lib/python3.6/dist-packages/tensorflow_core/python/client/session.py\", line 1365, in _do_call\n",
            "    return fn(*args)\n",
            "  File \"/usr/local/lib/python3.6/dist-packages/tensorflow_core/python/client/session.py\", line 1350, in _run_fn\n",
            "    target_list, run_metadata)\n",
            "  File \"/usr/local/lib/python3.6/dist-packages/tensorflow_core/python/client/session.py\", line 1443, in _call_tf_sessionrun\n",
            "    run_metadata)\n",
            "tensorflow.python.framework.errors_impl.InvalidArgumentError: Assign requires shapes of both tensors to match. lhs shape= [640,39] rhs shape= [640,98]\n",
            "\t [[{{node save/Assign_27}}]]\n",
            "\n",
            "During handling of the above exception, another exception occurred:\n",
            "\n",
            "Traceback (most recent call last):\n",
            "  File \"/usr/local/lib/python3.6/dist-packages/tensorflow_core/python/training/saver.py\", line 1290, in restore\n",
            "    {self.saver_def.filename_tensor_name: save_path})\n",
            "  File \"/usr/local/lib/python3.6/dist-packages/tensorflow_core/python/client/session.py\", line 956, in run\n",
            "    run_metadata_ptr)\n",
            "  File \"/usr/local/lib/python3.6/dist-packages/tensorflow_core/python/client/session.py\", line 1180, in _run\n",
            "    feed_dict_tensor, options, run_metadata)\n",
            "  File \"/usr/local/lib/python3.6/dist-packages/tensorflow_core/python/client/session.py\", line 1359, in _do_run\n",
            "    run_metadata)\n",
            "  File \"/usr/local/lib/python3.6/dist-packages/tensorflow_core/python/client/session.py\", line 1384, in _do_call\n",
            "    raise type(e)(node_def, op, message)\n",
            "tensorflow.python.framework.errors_impl.InvalidArgumentError: Assign requires shapes of both tensors to match. lhs shape= [640,39] rhs shape= [640,98]\n",
            "\t [[node save/Assign_27 (defined at /lib/python3.6/dist-packages/tensorflow_core/python/framework/ops.py:1748) ]]\n",
            "\n",
            "Original stack trace for 'save/Assign_27':\n",
            "  File \"/bin/aocr\", line 8, in <module>\n",
            "    sys.exit(main())\n",
            "  File \"/lib/python3.6/dist-packages/aocr/__main__.py\", line 251, in main\n",
            "    channels=parameters.channels,\n",
            "  File \"/lib/python3.6/dist-packages/aocr/model/model.py\", line 261, in __init__\n",
            "    self.saver_all = tf.train.Saver(tf.all_variables())\n",
            "  File \"/lib/python3.6/dist-packages/tensorflow_core/python/training/saver.py\", line 828, in __init__\n",
            "    self.build()\n",
            "  File \"/lib/python3.6/dist-packages/tensorflow_core/python/training/saver.py\", line 840, in build\n",
            "    self._build(self._filename, build_save=True, build_restore=True)\n",
            "  File \"/lib/python3.6/dist-packages/tensorflow_core/python/training/saver.py\", line 878, in _build\n",
            "    build_restore=build_restore)\n",
            "  File \"/lib/python3.6/dist-packages/tensorflow_core/python/training/saver.py\", line 508, in _build_internal\n",
            "    restore_sequentially, reshape)\n",
            "  File \"/lib/python3.6/dist-packages/tensorflow_core/python/training/saver.py\", line 350, in _AddRestoreOps\n",
            "    assign_ops.append(saveable.restore(saveable_tensors, shapes))\n",
            "  File \"/lib/python3.6/dist-packages/tensorflow_core/python/training/saving/saveable_object_util.py\", line 73, in restore\n",
            "    self.op.get_shape().is_fully_defined())\n",
            "  File \"/lib/python3.6/dist-packages/tensorflow_core/python/ops/state_ops.py\", line 227, in assign\n",
            "    validate_shape=validate_shape)\n",
            "  File \"/lib/python3.6/dist-packages/tensorflow_core/python/ops/gen_state_ops.py\", line 66, in assign\n",
            "    use_locking=use_locking, name=name)\n",
            "  File \"/lib/python3.6/dist-packages/tensorflow_core/python/framework/op_def_library.py\", line 794, in _apply_op_helper\n",
            "    op_def=op_def)\n",
            "  File \"/lib/python3.6/dist-packages/tensorflow_core/python/util/deprecation.py\", line 507, in new_func\n",
            "    return func(*args, **kwargs)\n",
            "  File \"/lib/python3.6/dist-packages/tensorflow_core/python/framework/ops.py\", line 3357, in create_op\n",
            "    attrs, op_def, compute_device)\n",
            "  File \"/lib/python3.6/dist-packages/tensorflow_core/python/framework/ops.py\", line 3426, in _create_op_internal\n",
            "    op_def=op_def)\n",
            "  File \"/lib/python3.6/dist-packages/tensorflow_core/python/framework/ops.py\", line 1748, in __init__\n",
            "    self._traceback = tf_stack.extract_stack()\n",
            "\n",
            "\n",
            "During handling of the above exception, another exception occurred:\n",
            "\n",
            "Traceback (most recent call last):\n",
            "  File \"/usr/local/bin/aocr\", line 8, in <module>\n",
            "    sys.exit(main())\n",
            "  File \"/usr/local/lib/python3.6/dist-packages/aocr/__main__.py\", line 251, in main\n",
            "    channels=parameters.channels,\n",
            "  File \"/usr/local/lib/python3.6/dist-packages/aocr/model/model.py\", line 268, in __init__\n",
            "    self.saver_all.restore(self.sess, ckpt.model_checkpoint_path)\n",
            "  File \"/usr/local/lib/python3.6/dist-packages/tensorflow_core/python/training/saver.py\", line 1326, in restore\n",
            "    err, \"a mismatch between the current graph and the graph\")\n",
            "tensorflow.python.framework.errors_impl.InvalidArgumentError: Restoring from checkpoint failed. This is most likely due to a mismatch between the current graph and the graph from the checkpoint. Please ensure that you have not altered the graph expected based on the checkpoint. Original error:\n",
            "\n",
            "Assign requires shapes of both tensors to match. lhs shape= [640,39] rhs shape= [640,98]\n",
            "\t [[node save/Assign_27 (defined at /lib/python3.6/dist-packages/tensorflow_core/python/framework/ops.py:1748) ]]\n",
            "\n",
            "Original stack trace for 'save/Assign_27':\n",
            "  File \"/bin/aocr\", line 8, in <module>\n",
            "    sys.exit(main())\n",
            "  File \"/lib/python3.6/dist-packages/aocr/__main__.py\", line 251, in main\n",
            "    channels=parameters.channels,\n",
            "  File \"/lib/python3.6/dist-packages/aocr/model/model.py\", line 261, in __init__\n",
            "    self.saver_all = tf.train.Saver(tf.all_variables())\n",
            "  File \"/lib/python3.6/dist-packages/tensorflow_core/python/training/saver.py\", line 828, in __init__\n",
            "    self.build()\n",
            "  File \"/lib/python3.6/dist-packages/tensorflow_core/python/training/saver.py\", line 840, in build\n",
            "    self._build(self._filename, build_save=True, build_restore=True)\n",
            "  File \"/lib/python3.6/dist-packages/tensorflow_core/python/training/saver.py\", line 878, in _build\n",
            "    build_restore=build_restore)\n",
            "  File \"/lib/python3.6/dist-packages/tensorflow_core/python/training/saver.py\", line 508, in _build_internal\n",
            "    restore_sequentially, reshape)\n",
            "  File \"/lib/python3.6/dist-packages/tensorflow_core/python/training/saver.py\", line 350, in _AddRestoreOps\n",
            "    assign_ops.append(saveable.restore(saveable_tensors, shapes))\n",
            "  File \"/lib/python3.6/dist-packages/tensorflow_core/python/training/saving/saveable_object_util.py\", line 73, in restore\n",
            "    self.op.get_shape().is_fully_defined())\n",
            "  File \"/lib/python3.6/dist-packages/tensorflow_core/python/ops/state_ops.py\", line 227, in assign\n",
            "    validate_shape=validate_shape)\n",
            "  File \"/lib/python3.6/dist-packages/tensorflow_core/python/ops/gen_state_ops.py\", line 66, in assign\n",
            "    use_locking=use_locking, name=name)\n",
            "  File \"/lib/python3.6/dist-packages/tensorflow_core/python/framework/op_def_library.py\", line 794, in _apply_op_helper\n",
            "    op_def=op_def)\n",
            "  File \"/lib/python3.6/dist-packages/tensorflow_core/python/util/deprecation.py\", line 507, in new_func\n",
            "    return func(*args, **kwargs)\n",
            "  File \"/lib/python3.6/dist-packages/tensorflow_core/python/framework/ops.py\", line 3357, in create_op\n",
            "    attrs, op_def, compute_device)\n",
            "  File \"/lib/python3.6/dist-packages/tensorflow_core/python/framework/ops.py\", line 3426, in _create_op_internal\n",
            "    op_def=op_def)\n",
            "  File \"/lib/python3.6/dist-packages/tensorflow_core/python/framework/ops.py\", line 1748, in __init__\n",
            "    self._traceback = tf_stack.extract_stack()\n",
            "\n"
          ],
          "name": "stdout"
        }
      ]
    },
    {
      "cell_type": "code",
      "metadata": {
        "id": "xLox_Bmw3jqX",
        "colab_type": "code",
        "colab": {
          "base_uri": "https://localhost:8080/",
          "height": 197
        },
        "outputId": "585b29d3-6a4c-41e7-cc8c-b023653ab0dc"
      },
      "source": [
        "\n",
        "with tf.Session() as sess:\n",
        "  saver.restore(sess, \"checkpoints/model.ckpt-4000.data-00000-of-00001\")"
      ],
      "execution_count": 68,
      "outputs": [
        {
          "output_type": "error",
          "ename": "NameError",
          "evalue": "ignored",
          "traceback": [
            "\u001b[0;31m---------------------------------------------------------------------------\u001b[0m",
            "\u001b[0;31mNameError\u001b[0m                                 Traceback (most recent call last)",
            "\u001b[0;32m<ipython-input-68-dd7b5ddf73e9>\u001b[0m in \u001b[0;36m<module>\u001b[0;34m()\u001b[0m\n\u001b[1;32m      1\u001b[0m \u001b[0;34m\u001b[0m\u001b[0m\n\u001b[1;32m      2\u001b[0m \u001b[0;32mwith\u001b[0m \u001b[0mtf\u001b[0m\u001b[0;34m.\u001b[0m\u001b[0mSession\u001b[0m\u001b[0;34m(\u001b[0m\u001b[0;34m)\u001b[0m \u001b[0;32mas\u001b[0m \u001b[0msess\u001b[0m\u001b[0;34m:\u001b[0m\u001b[0;34m\u001b[0m\u001b[0;34m\u001b[0m\u001b[0m\n\u001b[0;32m----> 3\u001b[0;31m   \u001b[0msaver\u001b[0m\u001b[0;34m.\u001b[0m\u001b[0mrestore\u001b[0m\u001b[0;34m(\u001b[0m\u001b[0msess\u001b[0m\u001b[0;34m,\u001b[0m \u001b[0;34m\"checkpoints/model.ckpt-4000.data-00000-of-00001\"\u001b[0m\u001b[0;34m)\u001b[0m\u001b[0;34m\u001b[0m\u001b[0;34m\u001b[0m\u001b[0m\n\u001b[0m",
            "\u001b[0;31mNameError\u001b[0m: name 'saver' is not defined"
          ]
        }
      ]
    },
    {
      "cell_type": "code",
      "metadata": {
        "id": "ikxde7Fb3Lb3",
        "colab_type": "code",
        "colab": {}
      },
      "source": [
        ""
      ],
      "execution_count": 0,
      "outputs": []
    }
  ]
}